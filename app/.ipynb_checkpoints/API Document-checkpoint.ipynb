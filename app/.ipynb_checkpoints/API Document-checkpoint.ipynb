{
 "cells": [
  {
   "cell_type": "code",
   "execution_count": 2,
   "metadata": {},
   "outputs": [],
   "source": [
    "import requests\n",
    "\n",
    "from datetime import date\n",
    "import requests\n",
    "birth_date = date(1990,1,30)\n",
    "\n",
    "\n",
    "data = {\n",
    "    'username' : 'dddafdafd213',\n",
    "    'email' : 'dopsfa213@gmail.com',\n",
    "    'nickname' : 'asffaf13',\n",
    "    'phone':'01014443743',\n",
    "    'gender':'male',\n",
    "    'password1':'1111',\n",
    "    'password2':'1111',\n",
    "    'birth_date' : birth_date\n",
    "}"
   ]
  },
  {
   "cell_type": "code",
   "execution_count": 3,
   "metadata": {
    "scrolled": true
   },
   "outputs": [],
   "source": [
    "url = 'http://localhost:8000/api/members/v1/signup/'\n",
    "\n",
    "\n",
    "\n",
    "res = requests.post(url, data=data)\n"
   ]
  },
  {
   "cell_type": "code",
   "execution_count": 4,
   "metadata": {},
   "outputs": [
    {
     "data": {
      "text/plain": [
       "{'token': 'f1656c5d2a64fd6ffa0030bb800872d70f769375',\n",
       " 'user': {'pk': 19,\n",
       "  'username': 'dddafdafd213',\n",
       "  'email': 'dopsfa213@gmail.com',\n",
       "  'nickname': 'asffaf13',\n",
       "  'phone': '+821014443743',\n",
       "  'gender': 'male',\n",
       "  'birth_date': '1990-01-30',\n",
       "  'address': '',\n",
       "  'recommand_code': '',\n",
       "  'clause_agree': True,\n",
       "  'marketing_agree': False,\n",
       "  'push_agree': False,\n",
       "  'age': 30}}"
      ]
     },
     "execution_count": 4,
     "metadata": {},
     "output_type": "execute_result"
    }
   ],
   "source": [
    "res.json()"
   ]
  },
  {
   "cell_type": "code",
   "execution_count": null,
   "metadata": {},
   "outputs": [],
   "source": [
    "KIUser.objects.all().delete()"
   ]
  },
  {
   "cell_type": "code",
   "execution_count": null,
   "metadata": {},
   "outputs": [],
   "source": []
  },
  {
   "cell_type": "code",
   "execution_count": 6,
   "metadata": {},
   "outputs": [
    {
     "data": {
      "text/plain": [
       "{'status': 'success',\n",
       " 'code': 200,\n",
       " 'message': 'Email verify successfully',\n",
       " 'user': {'id': 19,\n",
       "  'password': 'pbkdf2_sha256$150000$Rn07edOYfftC$S0s/eXPU3QFp5Al7Ffb+DaCgyS3iVZO5QU3izhwOrqQ=',\n",
       "  'last_login': None,\n",
       "  'is_superuser': False,\n",
       "  'username': 'dddafdafd213',\n",
       "  'first_name': '',\n",
       "  'last_name': '',\n",
       "  'is_staff': False,\n",
       "  'is_active': True,\n",
       "  'date_joined': '2020-09-29T17:39:19.548115',\n",
       "  'login_by': 'email',\n",
       "  'nickname': 'asffaf13',\n",
       "  'email': 'dopsfa213@gmail.com',\n",
       "  'phone': '+821014443743',\n",
       "  'birth_date': '1990-01-30',\n",
       "  'gender': 'male',\n",
       "  'address': '',\n",
       "  'point': 0,\n",
       "  'recommand_code': '',\n",
       "  'clause_agree': True,\n",
       "  'marketing_agree': False,\n",
       "  'push_agree': False,\n",
       "  'groups': [],\n",
       "  'user_permissions': [],\n",
       "  'favorites': []}}"
      ]
     },
     "execution_count": 6,
     "metadata": {},
     "output_type": "execute_result"
    }
   ],
   "source": [
    "token = res.json()['token']\n",
    "user_id = res.json()['user']['pk']\n",
    "username = res.json()['user']['username']\n",
    "password = '1111'\n",
    "active_url = f'http://localhost:8000/api/members/v1/activate/{user_id}/{token}/'\n",
    "\n",
    "res = requests.get(active_url)\n",
    "res.json()"
   ]
  },
  {
   "cell_type": "code",
   "execution_count": 26,
   "metadata": {},
   "outputs": [],
   "source": [
    "login_url = 'http://127.0.0.1:8000/api/members/v1/rest-auth/login/'\n",
    "\n",
    "\n",
    "\n",
    "data = {\n",
    "    \"username\" : username,\n",
    "    \"password\" : password\n",
    "}\n",
    "\n",
    "res = requests.post(login_url, data=data)"
   ]
  },
  {
   "cell_type": "code",
   "execution_count": 27,
   "metadata": {},
   "outputs": [
    {
     "data": {
      "text/plain": [
       "{'key': 'f1656c5d2a64fd6ffa0030bb800872d70f769375'}"
      ]
     },
     "execution_count": 27,
     "metadata": {},
     "output_type": "execute_result"
    }
   ],
   "source": [
    "res.json()"
   ]
  },
  {
   "cell_type": "code",
   "execution_count": 28,
   "metadata": {},
   "outputs": [],
   "source": [
    "login_url = 'http://127.0.0.1:8000/api/members/v1/login/'\n",
    "\n",
    "headers={'Authorization': token}\n",
    "\n",
    "data = {\n",
    "    \"username\" : username,\n",
    "    \"password\" : password\n",
    "}\n",
    "\n",
    "\n",
    "res = requests.post(login_url, data=data)"
   ]
  },
  {
   "cell_type": "code",
   "execution_count": 29,
   "metadata": {},
   "outputs": [
    {
     "data": {
      "text/plain": [
       "{'token': 'f1656c5d2a64fd6ffa0030bb800872d70f769375',\n",
       " 'user': {'id': 19,\n",
       "  'password': 'pbkdf2_sha256$150000$Rn07edOYfftC$S0s/eXPU3QFp5Al7Ffb+DaCgyS3iVZO5QU3izhwOrqQ=',\n",
       "  'last_login': '2020-09-30T09:23:03.572437',\n",
       "  'is_superuser': False,\n",
       "  'username': 'dddafdafd213',\n",
       "  'first_name': '',\n",
       "  'last_name': '',\n",
       "  'is_staff': False,\n",
       "  'is_active': True,\n",
       "  'date_joined': '2020-09-29T17:39:19.548115',\n",
       "  'login_by': 'email',\n",
       "  'nickname': 'asffaf13',\n",
       "  'email': 'dopsfa213@gmail.com',\n",
       "  'phone': '+821014443743',\n",
       "  'birth_date': '1990-01-30',\n",
       "  'gender': 'male',\n",
       "  'address': '',\n",
       "  'point': 0,\n",
       "  'recommand_code': '',\n",
       "  'clause_agree': True,\n",
       "  'marketing_agree': False,\n",
       "  'push_agree': False,\n",
       "  'groups': [],\n",
       "  'user_permissions': [],\n",
       "  'favorites': []}}"
      ]
     },
     "execution_count": 29,
     "metadata": {},
     "output_type": "execute_result"
    }
   ],
   "source": [
    "res.json()"
   ]
  },
  {
   "cell_type": "code",
   "execution_count": 39,
   "metadata": {},
   "outputs": [
    {
     "data": {
      "text/plain": [
       "'f1656c5d2a64fd6ffa0030bb800872d70f769375'"
      ]
     },
     "execution_count": 39,
     "metadata": {},
     "output_type": "execute_result"
    }
   ],
   "source": [
    "token"
   ]
  },
  {
   "cell_type": "code",
   "execution_count": 40,
   "metadata": {},
   "outputs": [],
   "source": [
    "login_url = 'http://127.0.0.1:8000/api/members/v1/logout/'\n",
    "\n",
    "headers={'Authorization': token}\n",
    "\n",
    "res = requests.post(login_url, headers=headers)"
   ]
  },
  {
   "cell_type": "code",
   "execution_count": 42,
   "metadata": {},
   "outputs": [
    {
     "data": {
      "text/plain": [
       "{'detail': '자격 인증데이터(authentication credentials)가 제공되지 않았습니다.'}"
      ]
     },
     "execution_count": 42,
     "metadata": {},
     "output_type": "execute_result"
    }
   ],
   "source": [
    "res.json()"
   ]
  },
  {
   "cell_type": "code",
   "execution_count": null,
   "metadata": {},
   "outputs": [],
   "source": []
  }
 ],
 "metadata": {
  "kernelspec": {
   "display_name": "Django Shell-Plus",
   "language": "python",
   "name": "django_extensions"
  },
  "language_info": {
   "codemirror_mode": {
    "name": "ipython",
    "version": 3
   },
   "file_extension": ".py",
   "mimetype": "text/x-python",
   "name": "python",
   "nbconvert_exporter": "python",
   "pygments_lexer": "ipython3",
   "version": "3.7.5"
  }
 },
 "nbformat": 4,
 "nbformat_minor": 4
}
